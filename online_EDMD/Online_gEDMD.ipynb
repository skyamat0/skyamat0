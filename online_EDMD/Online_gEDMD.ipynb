{
 "cells": [
  {
   "cell_type": "code",
   "execution_count": 71,
   "id": "d2ddd0de-3321-49dc-82a9-bb179f2a26c5",
   "metadata": {},
   "outputs": [],
   "source": [
    "import numpy as np\n",
    "import matplotlib.pyplot as plt\n",
    "\n",
    "import d3s.domain as domain\n",
    "import d3s.observables as observables\n",
    "import d3s.algorithms as algorithms\n",
    "import d3s.systems as systems\n",
    "import scipy as _sp\n",
    "from typing import NewType\n",
    "\n",
    "KoopmanMatrix         = NewType(\"KoopmanMatrix\", np.ndarray)\n",
    "Vector                = NewType(\"Vector\", np.ndarray)\n",
    "MonomialObservable    = NewType(\"MonomialObservable\", observables.monomials)\n",
    "Matrix                = NewType(\"Matrix\", np.ndarray)\n",
    "\n",
    "np.random.seed(seed=233423)\n",
    "\n",
    "def edmd(PsiX, PsiY, psi, evs=5):\n",
    "    '''\n",
    "    Conventional EDMD for the Koopman or Perron-Frobenius operator. The matrices X and Y\n",
    "    contain the input data.\n",
    "\n",
    "    :param psi:      set of basis functions, see d3s.observables\n",
    "    :param evs:      number of eigenvalues/eigenvectors\n",
    "    :param operator: 'K' for Koopman or 'P' for Perron-Frobenius\n",
    "    :return:         eigenvalues d and corresponding eigenvectors V containing the coefficients for the eigenfunctions\n",
    "    '''\n",
    "    C_0 = PsiX @ PsiX.T\n",
    "    C_1 = PsiY @ PsiX.T\n",
    "    #pesudo-inverse: X.T @ (X @ X.T)^-1\n",
    "    A = C_1 @ np.linalg.pinv(C_0)\n",
    "    d, V = sortEig(A, evs)\n",
    "    return (A, d, V)\n",
    "\n",
    "def gEDMD(X, Y, Z, psi):\n",
    "    \n",
    "    PsiX = psi(X)\n",
    "    dPsiY = np.einsum('ijk,jk->ik', psi.diff(X), Y)\n",
    "    \n",
    "    if not (Z is None): # stochastic dynamical system\n",
    "        n = PsiX.shape[0] # number of basis functions\n",
    "        ddPsiX = psi.ddiff(X) # second-order derivatives\n",
    "        S = np.einsum('ijk,ljk->ilk', Z, Z) # sigma \\cdot sigma^T\n",
    "        for i in range(n):\n",
    "            dPsiY[i, :] += 0.5*np.sum( ddPsiX[i, :, :, :] * S, axis=(0,1) )\n",
    "    \n",
    "    C_0 = PsiX @ PsiX.T\n",
    "    C_1 = dPsiY @ PsiX.T\n",
    "    A = C_1 @ np.linalg.pinv(C_0)\n",
    "    return A\n",
    "\n",
    "def sortEig(A, evs=5, which='SM'):\n",
    "    '''\n",
    "    Computes eigenvalues and eigenvectors of A and sorts them in decreasing lexicographic order.\n",
    "\n",
    "    :param evs: number of eigenvalues/eigenvectors\n",
    "    :return:    sorted eigenvalues and eigenvectors\n",
    "    '''\n",
    "    n = A.shape[0]\n",
    "    if evs < n:\n",
    "        #左固有ベクトルを求める\n",
    "        d, V = _sp.sparse.linalg.eigs(A.T, evs, which=which)\n",
    "        #V = np.conjugate(V).T\n",
    "        #d, V = _sp.linalg.eig(A.T, left=True, right=False)\n",
    "    else:\n",
    "        d, V = _sp.linalg.eig(A.T)\n",
    "    ind = d.argsort()[::-1] # [::-1] reverses the list of indices\n",
    "    return (d[ind], V[:, ind])"
   ]
  },
  {
   "cell_type": "code",
   "execution_count": 72,
   "id": "d132b6d2-3cbb-4c18-8e03-73297cba89a0",
   "metadata": {},
   "outputs": [],
   "source": [
    "#calc dPsi(X), generate data(Ornstein-Uhlenbeck)\n",
    "def b(x):\n",
    "    return -alpha*x\n",
    "def sigma(x):\n",
    "    return np.sqrt(2/beta)*np.ones((1, 1, x.shape[1]))\n",
    "\n",
    "#%% direct kernelization for kernels with finite-dimensional feature space\n",
    "alpha = 1\n",
    "beta = 4\n",
    "bounds = np.array([[-2, 2]])\n",
    "boxes = np.array([1000])\n",
    "Omega = domain.discretization(bounds, boxes)\n",
    "m=10000\n",
    "X = Omega.rand(m)\n",
    "Y = b(X)\n",
    "Z = sigma(X) \n",
    "epsilon = 0.1\n",
    "S = np.einsum('ijk,ljk->ilk', Z, Z) # sigma \\cdot sigma^T\n",
    "psi = observables.monomials(20)\n",
    "c = Omega.midpointGrid()\n",
    "PsiC = psi(c)\n",
    "#PsiC = psi(Omega.vertexGrid())"
   ]
  },
  {
   "cell_type": "code",
   "execution_count": 73,
   "id": "da96342b-bebf-4eb0-a6b4-72e290195b71",
   "metadata": {},
   "outputs": [],
   "source": [
    "def window_update(A_M: KoopmanMatrix, P_M: Matrix, U: Matrix, V: Matrix, C_inv: Matrix) -> tuple(KoopmanMatrix, Matrix):\n",
    "    G_M = np.linalg.inv(C_inv + U.T @ P_M @ U)\n",
    "    A_M = A_M + (V - A_M @ U) @ G_M @ U.T @ P_M\n",
    "    Z = (V - A_M @ U) @ G_M @ U.T @ P_M\n",
    "    P_M = P_M - P_M @ U @ G_M @ U.T @ P_M\n",
    "    return (A_M, P_M)\n",
    "\n",
    "def online_EDMD(K: KoopmanMatrix, G: Matrix, X: Vector, Y: Vector) -> tuple(KoopmanMatrix, Matrix):\n",
    "    gamma = 1/(1+(X.T @ G @ X))\n",
    "    K = K + gamma*(Y - K @ X) @ X.T @ G\n",
    "    G = G - gamma* G @ X @ X.T @ G \n",
    "    return (K, G)"
   ]
  },
  {
   "cell_type": "code",
   "execution_count": 74,
   "id": "7545bdae-25cd-4f4a-82f5-10f62bb72278",
   "metadata": {},
   "outputs": [
    {
     "name": "stdout",
     "output_type": "stream",
     "text": [
      "K_gEDMD = \n",
      "\u001b[94m  (columns 0 through 7)\u001b[0m\n",
      "     0.00000    -0.00000     0.49948     0.00002     0.00564    -0.00010    -0.02065     0.00023\n",
      "     0.00000    -0.99897    -0.00006     1.47182     0.00057     0.14664    -0.00175    -0.31750\n",
      "     0.00000    -0.00003    -1.98490     0.00043     2.83491    -0.00163     0.61188     0.00277\n",
      "     0.00000    -0.00888     0.00025    -2.75418    -0.00266     3.70097     0.00706     2.90371\n",
      "     0.00000     0.00012    -0.07181    -0.00189    -3.20546     0.00695     4.49193    -0.01123\n",
      "     0.00000     0.02045    -0.00038    -0.57759     0.00387    -1.84972    -0.00798     3.01869\n",
      "     0.00000    -0.00014     0.11573     0.00161    -1.31786    -0.00384    -0.77339     0.00249\n",
      "     0.00000    -0.01468     0.00020     0.44609    -0.00178    -2.69245     0.00220     0.52134\n",
      "     0.00000     0.00003    -0.05289     0.00012     0.69304    -0.00275    -3.29421     0.00872\n",
      "     0.00000    -0.00541     0.00011     0.09337    -0.00127    -0.01571     0.00245    -2.10752\n",
      "     0.00000     0.00005    -0.04785    -0.00045     0.39291     0.00073    -0.65408     0.00007\n",
      "     0.00000     0.01415    -0.00024    -0.34870     0.00238     1.48015    -0.00368    -1.68250\n",
      "     0.00000    -0.00005     0.07157     0.00002    -0.69709     0.00244     2.06928    -0.00811\n",
      "     0.00000    -0.00881     0.00016     0.22520    -0.00159    -1.03185     0.00266     1.59683\n",
      "     0.00000     0.00002    -0.03813     0.00006     0.38326    -0.00169    -1.22204     0.00527\n",
      "     0.00000     0.00266    -0.00006    -0.06903     0.00056     0.32495    -0.00106    -0.54759\n",
      "     0.00000    -0.00001     0.01045    -0.00000    -0.10643     0.00041     0.34901    -0.00137\n",
      "     0.00000    -0.00040     0.00001     0.01052    -0.00010    -0.05023     0.00021     0.08811\n",
      "     0.00000     0.00000    -0.00147    -0.00000     0.01508    -0.00003    -0.05019     0.00015\n",
      "     0.00000     0.00002    -0.00000    -0.00064     0.00001     0.00309    -0.00002    -0.00555\n",
      "     0.00000    -0.00000     0.00008     0.00000    -0.00087    -0.00000     0.00291    -0.00000\n",
      "\u001b[94m  (columns 8 through 15)\u001b[0m\n",
      "     0.03318    -0.00011    -0.00825    -0.00038    -0.04675     0.00067     0.06871    -0.00048\n",
      "     0.00225     0.21561    -0.00023     0.30446    -0.00232    -0.66622     0.00273     0.50255\n",
      "    -1.01327    -0.00124     0.35259    -0.00291     1.20699     0.00577    -1.87524    -0.00452\n",
      "    -0.00609    -2.28863    -0.00247    -1.98225     0.00388     5.17586     0.00128    -4.03486\n",
      "     5.23853     0.00417    -2.65079     0.01302    -4.42728    -0.02409     7.86224     0.01906\n",
      "     0.00025     7.37592     0.01136     1.36052     0.00494    -9.05218    -0.02567     7.77434\n",
      "     3.96047     0.00233     7.94968    -0.00164     2.20181    -0.00018    -8.71554    -0.00188\n",
      "     0.00536     7.01362    -0.01087     7.67638    -0.00679    -1.23877     0.02471    -1.48807\n",
      "     0.37886    -0.00734    10.17272    -0.01107    10.62702     0.02582    -5.32857    -0.01928\n",
      "     0.00057    -0.12770    -0.00370    10.67504    -0.00413    17.12248     0.01119    -9.84997\n",
      "    -2.13894    -0.00031     1.11678    -0.00156    12.83596     0.00012    19.00454     0.00319\n",
      "    -0.00457    -4.14647     0.01207     4.00885     0.00612    20.15586    -0.02452    12.03561\n",
      "    -1.36618     0.00623    -6.15796     0.01078     4.15211    -0.02066    28.28608     0.01194\n",
      "     0.00235     1.12979    -0.00818    -7.13908    -0.00097    -3.23847     0.01192    46.04876\n",
      "     1.23053    -0.00426     2.12523    -0.00608    -7.05695     0.01268    -6.06957    -0.00784\n",
      "    -0.00035    -0.17006     0.00263     1.89762    -0.00080    -2.71807    -0.00225   -13.17291\n",
      "    -0.39671     0.00125    -0.44548     0.00127     1.75027    -0.00299    -2.02607     0.00184\n",
      "    -0.00002     0.01190    -0.00042    -0.26617     0.00031     0.39257     0.00010    -0.26658\n",
      "     0.06046    -0.00017     0.05190    -0.00007    -0.23173     0.00026     0.27337    -0.00015\n",
      "     0.00001    -0.00020     0.00003     0.01536    -0.00003    -0.02312     0.00001     0.01581\n",
      "    -0.00363     0.00001    -0.00258    -0.00000     0.01274    -0.00000    -0.01522    -0.00000\n",
      "\u001b[94m  (columns 16 through 20)\u001b[0m\n",
      "    -0.04378     0.00019     0.01474     0.00036    -0.00288\n",
      "    -0.00164    -0.18783     0.00061     0.03392    -0.00016\n",
      "     1.21406     0.00160    -0.41092    -0.00588     0.07805\n",
      "    -0.00195     1.52950     0.00026    -0.28204     0.00030\n",
      "    -5.26304    -0.00750     1.80340     0.01326    -0.33029\n",
      "     0.01961    -3.05903    -0.00596     0.58078     0.00051\n",
      "     6.57361     0.00217    -2.35714    -0.00313     0.42309\n",
      "    -0.01890     0.94443     0.00638    -0.21803    -0.00114\n",
      "     1.48152     0.00649    -0.19722    -0.00929     0.01840\n",
      "    -0.00704     3.19462     0.00153    -0.54153     0.00015\n",
      "   -10.13229    -0.00274     3.07064     0.00194    -0.49534\n",
      "     0.01756    -4.15505    -0.00511     0.73932     0.00076\n",
      "     9.75436    -0.00225    -3.05914     0.00765     0.48757\n",
      "    -0.00910     2.26843     0.00273    -0.40995    -0.00059\n",
      "    55.40138     0.00171     1.45893    -0.00642    -0.22826\n",
      "     0.00196    67.35185    -0.00059     0.11812     0.00019\n",
      "   -14.81082    -0.00034    76.12066     0.00218     0.05846\n",
      "    -0.00015   -16.90494     0.00004    85.48258    -0.00003\n",
      "    -0.16166     0.00001   -17.94828    -0.00035    94.99215\n",
      "    -0.00000    -0.00566     0.00000   -18.99896     0.00000\n",
      "     0.00905     0.00000    -0.00290     0.00002   -19.99957\n",
      "d_gEDMD = \n",
      "\u001b[94m  (columns 0 through 4)\u001b[0m\n",
      "     0.00033     0.00000     0.00000    -0.00000    -0.00000\n"
     ]
    },
    {
     "name": "stderr",
     "output_type": "stream",
     "text": [
      "/opt/homebrew/lib/python3.9/site-packages/matplotlib/cbook/__init__.py:1298: ComplexWarning: Casting complex values to real discards the imaginary part\n",
      "  return np.asarray(x, float)\n"
     ]
    },
    {
     "data": {
      "text/plain": [
       "<matplotlib.legend.Legend at 0x146d687f0>"
      ]
     },
     "execution_count": 74,
     "metadata": {},
     "output_type": "execute_result"
    },
    {
     "data": {
      "image/png": "[encoded data removed]",
      "text/plain": [
       "<Figure size 432x288 with 1 Axes>"
      ]
     },
     "metadata": {
      "needs_background": "light"
     },
     "output_type": "display_data"
    }
   ],
   "source": [
    "from d3s.tools import printVector, printMatrix\n",
    "evs = 5 # number of eigenvalues/eigenfunctions to be computed\n",
    "K1, d1, V1 = algorithms.gedmd(X, Y, Z, psi, evs=evs, operator='K')\n",
    "printMatrix(K1, 'K_gEDMD')\n",
    "printVector(np.real(d1), 'd_gEDMD')\n",
    "R1 = V1.T @ PsiC\n",
    "for i in range(evs):\n",
    "    R1[i, :] = R1[i, :]/np.amax(abs(R1[i, :]))\n",
    "plt.figure(1)\n",
    "plt.clf()\n",
    "plt.plot(c.T, R1.T)\n",
    "plt.title('gEDMD')\n",
    "plt.legend([ 'phi_%i'% (i+1) for i in range(evs) ])"
   ]
  },
  {
   "cell_type": "code",
   "execution_count": 75,
   "id": "a9d6a201-0fa6-4683-a954-a04be9581972",
   "metadata": {},
   "outputs": [
    {
     "name": "stdout",
     "output_type": "stream",
     "text": [
      "K_self_gEDMD = \n",
      "\u001b[94m  (columns 0 through 7)\u001b[0m\n",
      "     0.00000     0.00000     0.00000     0.00000     0.00000     0.00000     0.00000     0.00000\n",
      "     0.00000    -0.99897    -0.00006    -0.00888     0.00019     0.02045    -0.00015    -0.01468\n",
      "     0.49948    -0.00005    -1.98482     0.00026    -0.07200    -0.00038     0.11578     0.00019\n",
      "     0.00001     1.47182     0.00048    -2.75418    -0.00198    -0.57759     0.00163     0.44609\n",
      "     0.00564     0.00056     2.83485    -0.00265    -3.20534     0.00386    -1.31784    -0.00177\n",
      "    -0.00010     0.14664    -0.00162     3.70096     0.00693    -1.84972    -0.00383    -2.69245\n",
      "    -0.02065    -0.00175     0.61181     0.00704     4.49211    -0.00794    -0.77351     0.00219\n",
      "     0.00023    -0.31750     0.00273     2.90371    -0.01117     3.01869     0.00247     0.52134\n",
      "     0.03317     0.00225    -1.01320    -0.00610     5.23841     0.00026     3.96046     0.00535\n",
      "    -0.00011     0.21561    -0.00125    -2.28863     0.00421     7.37592     0.00232     7.01362\n",
      "    -0.00825    -0.00024     0.35268    -0.00243    -2.65102     0.01130     7.94987    -0.01086\n",
      "    -0.00038     0.30446    -0.00287    -1.98225     0.01296     1.36052    -0.00163     7.67638\n",
      "    -0.04673    -0.00232     1.20680     0.00391    -4.42693     0.00492     2.20180    -0.00679\n",
      "     0.00068    -0.66622     0.00562     5.17585    -0.02377    -9.05217    -0.00024    -1.23876\n",
      "     0.06871     0.00275    -1.87528     0.00120     7.86244    -0.02554    -8.71591     0.02467\n",
      "    -0.00045     0.50255    -0.00491    -4.03486     0.01985     7.77434    -0.00204    -1.48807\n",
      "    -0.04386    -0.00161     1.21502    -0.00201    -5.26493     0.01955     6.57420    -0.01878\n",
      "    -0.00003    -0.18786     0.00448     1.52963    -0.01318    -3.05911     0.00311     0.94435\n",
      "     0.01518     0.00083    -0.41624    -0.00050     1.81356    -0.00550    -2.35880     0.00682\n",
      "     0.00037     0.03405    -0.00492    -0.28242     0.00950     0.58091    -0.00147    -0.21778\n",
      "    -0.00443     0.00177     0.09755    -0.00634    -0.36754     0.00422     0.42845     0.00282\n",
      "\u001b[94m  (columns 8 through 15)\u001b[0m\n",
      "     0.00000     0.00000     0.00000     0.00000     0.00000     0.00000     0.00000     0.00000\n",
      "    -0.00001    -0.00541     0.00005     0.01415    -0.00001    -0.00881    -0.00001     0.00266\n",
      "    -0.05274     0.00011    -0.04787    -0.00022     0.07141     0.00015    -0.03799    -0.00005\n",
      "     0.00018     0.09337    -0.00046    -0.34870    -0.00003     0.22520     0.00010    -0.06903\n",
      "     0.69291    -0.00125     0.39289     0.00234    -0.69691    -0.00156     0.38313     0.00054\n",
      "    -0.00273    -0.01572     0.00073     1.48015     0.00242    -1.03185    -0.00168     0.32495\n",
      "    -3.29426     0.00242    -0.65399    -0.00363     2.06927     0.00264    -1.22206    -0.00106\n",
      "     0.00868    -2.10752     0.00007    -1.68250    -0.00807     1.59683     0.00525    -0.54759\n",
      "     0.37896     0.00056    -2.13893    -0.00455    -1.36630     0.00233     1.23062    -0.00035\n",
      "    -0.00737    -0.12770    -0.00030    -4.14647     0.00625     1.12979    -0.00428    -0.17006\n",
      "    10.17275    -0.00363     1.11664     0.01199    -6.15786    -0.00814     2.12520     0.00262\n",
      "    -0.01104    10.67504    -0.00156     4.00885     0.01074    -7.13908    -0.00606     1.89762\n",
      "    10.62675    -0.00411    12.83594     0.00609     4.15240    -0.00095    -7.05717    -0.00081\n",
      "     0.02559    17.12247     0.00014    20.15586    -0.02044    -3.23847     0.01250    -2.71808\n",
      "    -5.32842     0.01105    19.00484    -0.02433    28.28566     0.01182    -6.06933    -0.00222\n",
      "    -0.01982    -9.84997     0.00326    12.03560     0.01243    46.04876    -0.00824   -13.17291\n",
      "     1.48252    -0.00694   -10.13265     0.01733     9.75371    -0.00895    55.40198     0.00191\n",
      "     0.01036     3.19467    -0.00312    -4.15496    -0.00581     2.26833     0.00456    67.35189\n",
      "    -0.20399     0.00123     3.07133    -0.00547    -3.05311     0.00315     1.45410    -0.00076\n",
      "    -0.00611    -0.54152     0.00094     0.73919     0.00443    -0.40978    -0.00339     0.11808\n",
      "     0.04338    -0.00187    -0.49724    -0.00280     0.46472     0.00309    -0.21092    -0.00121\n",
      "\u001b[94m  (columns 16 through 20)\u001b[0m\n",
      "     0.00000     0.00000     0.00000     0.00000     0.00000\n",
      "     0.00000    -0.00040    -0.00000     0.00002     0.00000\n",
      "     0.01040     0.00001    -0.00146    -0.00000     0.00008\n",
      "    -0.00002     0.01052    -0.00000    -0.00064     0.00000\n",
      "    -0.10638    -0.00010     0.01507     0.00001    -0.00087\n",
      "     0.00040    -0.05023    -0.00003     0.00309    -0.00000\n",
      "     0.34902     0.00021    -0.05019    -0.00002     0.00291\n",
      "    -0.00136     0.08811     0.00015    -0.00555    -0.00000\n",
      "    -0.39674    -0.00002     0.06046     0.00001    -0.00363\n",
      "     0.00126     0.01190    -0.00017    -0.00020     0.00001\n",
      "    -0.44547    -0.00042     0.05190     0.00003    -0.00258\n",
      "     0.00126    -0.26617    -0.00007     0.01536    -0.00000\n",
      "     1.75035     0.00032    -0.23174    -0.00003     0.01274\n",
      "    -0.00292     0.39257     0.00025    -0.02312    -0.00000\n",
      "    -2.02613     0.00009     0.27338     0.00001    -0.01522\n",
      "     0.00198    -0.26658    -0.00017     0.01581     0.00000\n",
      "   -14.81103    -0.00014    -0.16162    -0.00000     0.00905\n",
      "    -0.00131   -16.90495     0.00016    -0.00566    -0.00001\n",
      "    76.12230     0.00008   -17.94854    -0.00000    -0.00288\n",
      "     0.00106    85.48258    -0.00016   -18.99896     0.00001\n",
      "     0.05264     0.00021    94.99312    -0.00001   -19.99963\n",
      "d_self_gEDMD = \n",
      "\u001b[94m  (columns 0 through 4)\u001b[0m\n",
      "     0.00033     0.00000    -0.00000    -0.00000    -0.00000\n"
     ]
    },
    {
     "name": "stderr",
     "output_type": "stream",
     "text": [
      "/opt/homebrew/lib/python3.9/site-packages/matplotlib/cbook/__init__.py:1298: ComplexWarning: Casting complex values to real discards the imaginary part\n",
      "  return np.asarray(x, float)\n"
     ]
    },
    {
     "data": {
      "text/plain": [
       "<matplotlib.legend.Legend at 0x146df76a0>"
      ]
     },
     "execution_count": 75,
     "metadata": {},
     "output_type": "execute_result"
    },
    {
     "data": {
      "image/png": "[encoded data removed]",
      "text/plain": [
       "<Figure size 432x288 with 1 Axes>"
      ]
     },
     "metadata": {
      "needs_background": "light"
     },
     "output_type": "display_data"
    }
   ],
   "source": [
    "K = gEDMD(X, Y, Z, psi)\n",
    "d, V = sortEig(K, evs=evs, which='SM')\n",
    "printMatrix(K, 'K_self_gEDMD')\n",
    "printVector(np.real(d), 'd_self_gEDMD')\n",
    "R = V.T @ PsiC\n",
    "for i in range(evs):\n",
    "    R[i, :] = R[i, :]/np.amax(abs(R[i, :]))\n",
    "plt.figure(1)\n",
    "plt.clf()\n",
    "plt.plot(c.T, R.T)\n",
    "plt.title('self_gEDMD')\n",
    "plt.legend([ 'phi_%i'% (i+1) for i in range(evs) ])"
   ]
  },
  {
   "cell_type": "code",
   "execution_count": 76,
   "id": "e6359246-2883-4b24-8ac8-e8af350e8d3e",
   "metadata": {},
   "outputs": [
    {
     "name": "stdout",
     "output_type": "stream",
     "text": [
      "K__online_gEDMD = \n",
      "\u001b[94m  (columns 0 through 7)\u001b[0m\n",
      "     0.00000     0.00000     0.00000     0.00000     0.00000     0.00000     0.00000     0.00000\n",
      "     0.00001    -0.99891    -0.00023    -0.00939     0.00103     0.02163    -0.00152    -0.01554\n",
      "     0.49949    -0.00011    -1.98520     0.00068    -0.07042    -0.00100     0.11377    -0.00031\n",
      "    -0.00006     1.47159     0.00260    -2.75215    -0.01157    -0.58265     0.01592     0.45071\n",
      "     0.00555     0.00145     2.83726    -0.00979    -3.21580     0.01780    -1.30392    -0.00535\n",
      "     0.00009     0.14634    -0.00663     3.70317     0.02809    -1.85307    -0.03348    -2.69414\n",
      "    -0.02046    -0.00381     0.60679     0.02354     4.51359    -0.04111    -0.80199     0.01433\n",
      "     0.00010    -0.31636     0.00507     2.89446    -0.01768     3.03806     0.00692     0.51114\n",
      "     0.03314     0.00228    -1.01261    -0.00597     5.23719     0.00000     3.96079     0.00349\n",
      "    -0.00030     0.21654     0.00473    -2.29640    -0.02562     7.39141     0.05019     7.00993\n",
      "    -0.00859     0.00380     0.36231    -0.03588    -2.69454     0.08056     8.01065    -0.03887\n",
      "    -0.00018     0.30186    -0.00666    -1.96082     0.02404     1.31496    -0.01020     7.70108\n",
      "    -0.04665    -0.00277     1.20523     0.00587    -4.42221     0.00311     2.19709    -0.00497\n",
      "     0.00088    -0.66955    -0.00361     5.20438     0.03074    -9.11295    -0.09740    -1.21330\n",
      "     0.06944    -0.00670    -1.89711     0.08008     7.96482    -0.18902    -8.86402     0.09119\n",
      "    -0.00087     0.51074     0.00917    -4.10363    -0.05260     7.92104     0.11631    -1.55989\n",
      "    -0.04470     0.00870     1.24043    -0.08899    -5.38549     0.20337     6.75098    -0.10111\n",
      "     0.00037    -0.19310    -0.00490     1.57350     0.02730    -3.15314    -0.05631     0.99259\n",
      "     0.01512     0.00028    -0.42226     0.01591     1.85959    -0.06937    -2.44338     0.06535\n",
      "    -0.00033     0.03541     0.00673    -0.29303    -0.02281     0.60431     0.01988    -0.23198\n",
      "    -0.00225     0.08937     0.06094    -0.50521    -0.28398     0.49469     0.41882     0.33148\n",
      "\u001b[94m  (columns 8 through 15)\u001b[0m\n",
      "     0.00000     0.00000     0.00000     0.00000     0.00000     0.00000     0.00000     0.00000\n",
      "     0.00050    -0.00571     0.00086     0.01495    -0.00107    -0.00932     0.00055     0.00282\n",
      "    -0.05283     0.00205    -0.04551    -0.00216     0.06909     0.00111    -0.03691    -0.00031\n",
      "    -0.00434     0.09291    -0.00924    -0.35072     0.01073     0.22672    -0.00533    -0.06953\n",
      "     0.69286    -0.01699     0.37702     0.02215    -0.68076    -0.01225     0.37539     0.00358\n",
      "     0.00514    -0.00753     0.01969     1.47195    -0.01938    -1.02781     0.00898     0.32387\n",
      "    -3.29342     0.03260    -0.62335    -0.04430     2.03798     0.02496    -1.20712    -0.00744\n",
      "     0.01110    -2.11864    -0.00370    -1.66474    -0.00722     1.58674     0.00579    -0.54467\n",
      "     0.37867     0.00553    -2.13660    -0.00954    -1.36938     0.00489     1.23241    -0.00107\n",
      "    -0.02393    -0.14652    -0.03163    -4.12279     0.04642     1.11695    -0.02518    -0.16640\n",
      "    10.16808    -0.06386     1.05267     0.09607    -6.09012    -0.05498     2.09219     0.01614\n",
      "    -0.01454    10.70082     0.00614     3.96670     0.00735    -7.11491    -0.00587     1.89058\n",
      "    10.62856    -0.01072    12.83492     0.01565     4.15388    -0.00727    -7.05821     0.00134\n",
      "     0.06430    17.17660     0.06545    20.07891    -0.10966    -3.19509     0.06048    -2.73071\n",
      "    -5.31201     0.15046    19.15755    -0.21822    28.11969     0.11905    -5.98724    -0.03291\n",
      "    -0.05943    -9.95356    -0.07998    12.19281     0.11837    45.95954    -0.06349   -13.14699\n",
      "     1.45748    -0.15302   -10.30586     0.22956     9.94467    -0.12844    55.30719     0.03657\n",
      "     0.02673     3.25676     0.03960    -4.25224    -0.05726     2.32408     0.03087    67.33558\n",
      "    -0.18178     0.04980     3.15306    -0.12435    -3.15207     0.08760     1.50514    -0.02981\n",
      "     0.00756    -0.55585    -0.01428     0.76623    -0.00075    -0.42728     0.00704     0.12379\n",
      "    -0.03998    -0.37111    -0.49409    -0.36245     0.56939     0.53726    -0.30237    -0.24276\n",
      "\u001b[94m  (columns 16 through 20)\u001b[0m\n",
      "     0.00000     0.00000     0.00000     0.00000     0.00000\n",
      "    -0.00015    -0.00043     0.00002     0.00003    -0.00000\n",
      "     0.01012     0.00005    -0.00142    -0.00000     0.00008\n",
      "     0.00143     0.01060    -0.00020    -0.00065     0.00001\n",
      "    -0.10437    -0.00054     0.01480     0.00003    -0.00085\n",
      "    -0.00237    -0.05008     0.00034     0.00308    -0.00002\n",
      "     0.34515     0.00115    -0.04967    -0.00007     0.00288\n",
      "    -0.00170     0.08768     0.00022    -0.00552    -0.00001\n",
      "    -0.39727     0.00008     0.06054     0.00000    -0.00364\n",
      "     0.00696     0.01136    -0.00098    -0.00017     0.00006\n",
      "    -0.43679    -0.00241     0.05071     0.00015    -0.00251\n",
      "     0.00151    -0.26513    -0.00014     0.01530     0.00000\n",
      "     1.75069    -0.00005    -0.23179    -0.00001     0.01274\n",
      "    -0.01634     0.39445     0.00217    -0.02323    -0.00011\n",
      "    -2.04796     0.00458     0.27640    -0.00025    -0.01540\n",
      "     0.01710    -0.27042    -0.00231     0.01604     0.00012\n",
      "   -14.78580    -0.00527    -0.16512     0.00031     0.00924\n",
      "    -0.00845   -16.90252     0.00117    -0.00580    -0.00006\n",
      "    76.10843     0.00502   -17.94660    -0.00033    -0.00299\n",
      "    -0.00358    85.48164     0.00073   -18.99890    -0.00005\n",
      "     0.08689     0.04820    94.98694    -0.00360   -19.99919\n",
      "d_Online_gEDMD = \n",
      "\u001b[94m  (columns 0 through 4)\u001b[0m\n",
      "     0.00031     0.00000     0.00000    -0.00000    -0.00000\n"
     ]
    },
    {
     "name": "stderr",
     "output_type": "stream",
     "text": [
      "/opt/homebrew/lib/python3.9/site-packages/matplotlib/cbook/__init__.py:1298: ComplexWarning: Casting complex values to real discards the imaginary part\n",
      "  return np.asarray(x, float)\n"
     ]
    },
    {
     "data": {
      "text/plain": [
       "<matplotlib.legend.Legend at 0x146e827f0>"
      ]
     },
     "execution_count": 76,
     "metadata": {},
     "output_type": "execute_result"
    },
    {
     "data": {
      "image/png": "[encoded data removed]",
      "text/plain": [
       "<Figure size 432x288 with 1 Axes>"
      ]
     },
     "metadata": {
      "needs_background": "light"
     },
     "output_type": "display_data"
    }
   ],
   "source": [
    "PsiX = psi(X)\n",
    "dPsiY = np.einsum('ijk,jk->ik', psi.diff(X), Y)\n",
    "if not (Z is None): # stochastic dynamical system\n",
    "    n = PsiX.shape[0] # number of basis functions\n",
    "    ddPsiX = psi.ddiff(X) # secplond-order derivatives\n",
    "    S = np.einsum('ijk,ljk->ilk', Z, Z) # sigma \\cdot sigma^T\n",
    "    for i in range(n):\n",
    "        dPsiY[i, :] += 0.5*np.sum( ddPsiX[i, :, :, :] * S, axis=(0,1) )\n",
    "            \n",
    "init_size = 500\n",
    "X_base = PsiX[:, :init_size]\n",
    "Y_base = dPsiY[:, :init_size]\n",
    "G = np.linalg.pinv(X_base @ X_base.T)\n",
    "K_o, d_o, V_o = edmd(X_base, Y_base, psi,evs=evs)\n",
    "for i in range(m-init_size):\n",
    "    X_add = PsiX[:, init_size+i].reshape(-1,1)\n",
    "    Y_add = dPsiY[:, init_size+i].reshape(-1,1)\n",
    "    K_o, G = online_EDMD(K_o, G, X_add, Y_add)\n",
    "d_o, V_o = sortEig(K_o, evs=evs)\n",
    "\n",
    "printMatrix(K_o, 'K__online_gEDMD')\n",
    "printVector(np.real(d_o), 'd_Online_gEDMD')\n",
    "R_o = V_o.T @ PsiC\n",
    "for i in range(evs):\n",
    "    R_o[i, :] = R_o[i, :]/np.amax(abs(R_o[i, :]))\n",
    "plt.figure(1)\n",
    "plt.clf()\n",
    "plt.plot(c.T, R_o.T)\n",
    "plt.title('Online_gEDMD')\n",
    "plt.legend([ 'phi_%i'% (i+1) for i in range(evs) ])"
   ]
  },
  {
   "cell_type": "code",
   "execution_count": 77,
   "id": "4e42d130-7afe-45b8-817c-8885e8a9e6e1",
   "metadata": {},
   "outputs": [
    {
     "name": "stdout",
     "output_type": "stream",
     "text": [
      "K_gEDMD = \n",
      "\u001b[94m  (columns 0 through 7)\u001b[0m\n",
      "     0.00000     0.00000     0.00000     0.00000     0.00000     0.00000     0.00000     0.00000\n",
      "     0.00000    -0.99890    -0.00021    -0.00944     0.00109     0.02168    -0.00155    -0.01551\n",
      "     0.49953    -0.00014    -1.98509     0.00060    -0.07091    -0.00089     0.11388    -0.00025\n",
      "     0.00014     1.47138     0.00145    -2.75169    -0.01150    -0.58341     0.01641     0.45031\n",
      "     0.00515     0.00173     2.83602    -0.00879    -3.21045     0.01653    -1.30523    -0.00617\n",
      "    -0.00098     0.14728    -0.00009     3.70122     0.02625    -1.84938    -0.03578    -2.69232\n",
      "    -0.01896    -0.00491     0.61066     0.02069     4.49580    -0.03717    -0.79766     0.01680\n",
      "     0.00246    -0.31791    -0.01063     2.89757    -0.00991     3.03051     0.01121     0.50781\n",
      "     0.03073     0.00331    -1.01845     0.00158     5.26477    -0.00932     3.95345    -0.00252\n",
      "    -0.00207     0.21601     0.02054    -2.29466    -0.04262     7.39500     0.04909     7.01009\n",
      "    -0.00772     0.00360     0.35674    -0.03390    -2.68333     0.07958     8.00889    -0.03986\n",
      "    -0.00193     0.30726    -0.00577    -1.97328     0.04996     1.32604    -0.02080     7.70947\n",
      "    -0.04300    -0.01219     1.21171     0.03097    -4.45420    -0.01874     2.19912    -0.02072\n",
      "     0.00512    -0.67649    -0.01781     5.21745     0.00112    -9.12939    -0.07770    -1.22342\n",
      "     0.06560    -0.00877    -1.93531     0.12858     8.08763    -0.23921    -8.89488     0.05674\n",
      "    -0.00453     0.51805     0.02979    -4.12709    -0.05592     7.94720     0.10983    -1.54294\n",
      "    -0.04147     0.00541     1.25090    -0.09342    -5.42929     0.21021     6.76065    -0.09689\n",
      "     0.00112    -0.19208     0.00099     1.56191    -0.01048    -3.14442    -0.03800     0.99969\n",
      "     0.00468     0.08833    -0.23332    -0.47304     1.35597     0.39947    -2.26607     0.39399\n",
      "    -0.00197     0.02985     0.04982    -0.25548    -0.16320     0.55959     0.09371    -0.25938\n",
      "    -0.18610     1.75759     3.77883    -9.88852   -10.19712     9.48894     3.81895     6.64616\n",
      "\u001b[94m  (columns 8 through 15)\u001b[0m\n",
      "     0.00000     0.00000     0.00000     0.00000     0.00000     0.00000     0.00000     0.00000\n",
      "     0.00044    -0.00575     0.00087     0.01491    -0.00102    -0.00926     0.00051     0.00279\n",
      "    -0.05248     0.00198    -0.04555    -0.00223     0.06879     0.00120    -0.03666    -0.00035\n",
      "    -0.00402     0.09356    -0.00938    -0.35016     0.01047     0.22579    -0.00515    -0.06909\n",
      "     0.68901    -0.01615     0.37747     0.02301    -0.67736    -0.01338     0.37268     0.00404\n",
      "     0.00451    -0.01074     0.02029     1.46930    -0.01891    -1.02331     0.00873     0.32174\n",
      "    -3.28064     0.03001    -0.62480    -0.04689     2.02674     0.02832    -1.19821    -0.00878\n",
      "     0.00984    -2.11196    -0.00482    -1.65957    -0.00594     1.57765     0.00458    -0.54035\n",
      "     0.35856     0.01206    -2.13379    -0.00296    -1.35146    -0.00412     1.21784     0.00276\n",
      "    -0.01506    -0.15017    -0.03122    -4.12441     0.03861     1.12103    -0.01928    -0.16843\n",
      "    10.16059    -0.06330     1.05333     0.09678    -6.08345    -0.05589     2.08689     0.01656\n",
      "    -0.03670    10.69211     0.00953     3.95695     0.02703    -7.10072    -0.02115     1.88404\n",
      "    10.64885     0.00732    12.83763     0.03424     4.13852    -0.03604    -7.04939     0.01487\n",
      "     0.09459    17.19050     0.05823    20.09227    -0.13719    -3.21630     0.08301    -2.72071\n",
      "    -5.40017     0.18669    19.17081    -0.18100    28.19941     0.06646    -6.05310    -0.00976\n",
      "    -0.06296    -9.97446    -0.07962    12.17233     0.12042    45.99086    -0.06327   -13.16144\n",
      "     1.48839    -0.15713   -10.30882     0.22542     9.91773    -0.12352    55.32832     0.03475\n",
      "     0.05892     3.25108     0.02859    -4.25884    -0.08928     2.33243     0.06179    67.33213\n",
      "     0.20262    -0.30659     3.04556    -0.49067    -3.52584     0.62592     1.84808    -0.27422\n",
      "     0.12683    -0.51661    -0.07325     0.80339    -0.13080    -0.49021     0.15226     0.15475\n",
      "     7.48198    -7.19132    -2.52461    -7.38917    -6.70670    10.83352     6.32634    -4.90947\n",
      "\u001b[94m  (columns 16 through 20)\u001b[0m\n",
      "     0.00000     0.00000     0.00000     0.00000     0.00000\n",
      "    -0.00013    -0.00042     0.00002     0.00003    -0.00000\n",
      "     0.01004     0.00005    -0.00141    -0.00000     0.00008\n",
      "     0.00139     0.01051    -0.00020    -0.00064     0.00001\n",
      "    -0.10345    -0.00062     0.01465     0.00004    -0.00084\n",
      "    -0.00238    -0.04964     0.00036     0.00305    -0.00002\n",
      "     0.34214     0.00138    -0.04917    -0.00009     0.00285\n",
      "    -0.00110     0.08679     0.00009    -0.00545     0.00000\n",
      "    -0.39228    -0.00063     0.05972     0.00005    -0.00358\n",
      "     0.00498     0.01178    -0.00065    -0.00020     0.00003\n",
      "    -0.43499    -0.00250     0.05041     0.00015    -0.00249\n",
      "     0.00641    -0.26379    -0.00088     0.01520     0.00005\n",
      "     1.74828    -0.00283    -0.23144     0.00021     0.01272\n",
      "    -0.02374     0.39238     0.00332    -0.02307    -0.00018\n",
      "    -2.02525     0.00008     0.27266     0.00008    -0.01515\n",
      "     0.01638    -0.26749    -0.00209     0.01581     0.00010\n",
      "   -14.79293    -0.00498    -0.16394     0.00029     0.00917\n",
      "    -0.02010   -16.90188     0.00321    -0.00585    -0.00020\n",
      "    75.98430     0.05388   -17.92572    -0.00401    -0.00435\n",
      "    -0.06375    85.47504     0.01215   -18.99837    -0.00089\n",
      "    -2.30423     0.97990    95.38836    -0.07361   -20.02516\n",
      "d_gEDMD = \n",
      "\u001b[94m  (columns 0 through 4)\u001b[0m\n",
      "     0.00033     0.00000    -0.00000    -0.00000    -0.00000\n"
     ]
    },
    {
     "name": "stderr",
     "output_type": "stream",
     "text": [
      "/opt/homebrew/lib/python3.9/site-packages/matplotlib/cbook/__init__.py:1298: ComplexWarning: Casting complex values to real discards the imaginary part\n",
      "  return np.asarray(x, float)\n"
     ]
    },
    {
     "data": {
      "text/plain": [
       "<matplotlib.legend.Legend at 0x146f21490>"
      ]
     },
     "execution_count": 77,
     "metadata": {},
     "output_type": "execute_result"
    },
    {
     "data": {
      "image/png": "[encoded data removed]",
      "text/plain": [
       "<Figure size 432x288 with 1 Axes>"
      ]
     },
     "metadata": {
      "needs_background": "light"
     },
     "output_type": "display_data"
    }
   ],
   "source": [
    "init_size = 500\n",
    "X_base = PsiX[:, :init_size]\n",
    "Y_base = dPsiY[:, :init_size]\n",
    "G = np.linalg.pinv(X_base @ X_base.T)\n",
    "C_inv = np.linalg.inv(np.array([[-1, 0],[0, 1]]))\n",
    "K_w, d_w, V_w = edmd(X_base, Y_base, psi,evs=evs)\n",
    "w=init_size\n",
    "for i in range(m-init_size-1):\n",
    "    U = np.array([PsiX[:, i], PsiX[:, w+i]]).T\n",
    "    V = np.array([dPsiY[:, i], dPsiY[:, w+i]]).T\n",
    "    K_w, G = window_update(K_w, G, U, V, C_inv)\n",
    "d_w, V_w = sortEig(K, evs=evs)\n",
    "\n",
    "printMatrix(K_w, 'K_gEDMD')\n",
    "printVector(np.real(d_w), 'd_gEDMD')\n",
    "\n",
    "R_w = V_w.T @ PsiC\n",
    "for i in range(evs):\n",
    "    R_w[i, :] = R_w[i, :]/np.amax(abs(R_w[i, :]))\n",
    "plt.figure(1)\n",
    "plt.clf()\n",
    "plt.plot(c.T, R_w.T)\n",
    "plt.title('window_gEDMD')\n",
    "plt.legend([ 'phi_%i'% (i+1) for i in range(evs) ])"
   ]
  },
  {
   "cell_type": "code",
   "execution_count": 80,
   "id": "a413e6b6-b7f7-419f-8341-8483f430da7b",
   "metadata": {},
   "outputs": [
    {
     "name": "stdout",
     "output_type": "stream",
     "text": [
      "1.921672965643495e-06\n",
      "0.0052144460051266606\n",
      "-0.3962087454557093\n",
      "---------\n",
      "0.0\n",
      "0.0061868012183907695\n",
      "-0.39523639024244517\n"
     ]
    }
   ],
   "source": [
    "#クープマン行列の誤差\n",
    "print(np.max(np.abs(K1[:10,:10])) - np.max(np.abs(K[:10,:10])))\n",
    "print(np.max(np.abs(K1)) - np.max(np.abs(K_o)))\n",
    "print(np.max(np.abs(K1)) - np.max(np.abs(K_w)))\n",
    "print(\"---------\")\n",
    "print(np.max(np.abs(K)) - np.max(np.abs(K)))\n",
    "print(np.max(np.abs(K)) - np.max(np.abs(K_o)))\n",
    "print(np.max(np.abs(K)) - np.max(np.abs(K_w)))"
   ]
  },
  {
   "cell_type": "raw",
   "id": "da0396b6-7289-48ef-b4cf-8a2ddff8d122",
   "metadata": {},
   "source": []
  }
 ],
 "metadata": {
  "kernelspec": {
   "display_name": "Python 3 (ipykernel)",
   "language": "python",
   "name": "python3"
  },
  "language_info": {
   "codemirror_mode": {
    "name": "ipython",
    "version": 3
   },
   "file_extension": ".py",
   "mimetype": "text/x-python",
   "name": "python",
   "nbconvert_exporter": "python",
   "pygments_lexer": "ipython3",
   "version": "3.9.12"
  }
 },
 "nbformat": 4,
 "nbformat_minor": 5
}
